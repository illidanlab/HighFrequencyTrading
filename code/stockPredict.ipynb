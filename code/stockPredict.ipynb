{
 "cells": [
  {
   "cell_type": "code",
   "execution_count": 83,
   "metadata": {},
   "outputs": [
    {
     "name": "stdout",
     "output_type": "stream",
     "text": [
      "The zipline extension is already loaded. To reload it, use:\n",
      "  %reload_ext zipline\n"
     ]
    }
   ],
   "source": [
    "%load_ext zipline"
   ]
  },
  {
   "cell_type": "code",
   "execution_count": 84,
   "metadata": {},
   "outputs": [
    {
     "name": "stdout",
     "output_type": "stream",
     "text": [
      "Training Sample: (838, 7)   Testing Sample: (414, 7)\n",
      "model classes:[-1  0  1]\n",
      "Accuracy=81.40%.\n",
      "Precision=0.77\n",
      "Recall=0.81\n"
     ]
    }
   ],
   "source": [
    "import pickle \n",
    "import pandas as pd\n",
    "import numpy as np \n",
    "from sklearn.ensemble import RandomForestClassifier as RF\n",
    "from sklearn.linear_model import LogisticRegression as LR\n",
    "from sklearn.model_selection import train_test_split\n",
    "from sklearn.metrics import precision_score, recall_score\n",
    "from sklearn.metrics import precision_recall_curve\n",
    "\n",
    "def labelData(T = 5, profit_taking = 0.07, loss_stopping= -0.07):\n",
    "    history_file = '../data/history.pickle'\n",
    "    with open(history_file, 'rb') as f:\n",
    "        history = pickle.load(f)\n",
    "    N = len(history)\n",
    "    Y = [0 for i in range(N-T)]\n",
    "    X = [v for v in history[:-T]]\n",
    "    for i in range(N - T):\n",
    "        sec = history[i:i+T]\n",
    "        curr = history[i]\n",
    "        profit, profit_t = None, None \n",
    "        loss, loss_t = None, None\n",
    "        label = None\n",
    "        for j, v in enumerate(sec):\n",
    "            delta = (v - curr)/curr\n",
    "            if profit == None and delta > profit_taking:\n",
    "                profit, profit_t = delta, j + i \n",
    "            if loss == None and delta < loss_stopping:\n",
    "                loss, loss_t = delta, j + i\n",
    "        if not (profit_t or loss_t):\n",
    "            label = 0\n",
    "        elif not profit_t:\n",
    "            label = -1\n",
    "        elif not loss_t:\n",
    "            label = 1\n",
    "        else:\n",
    "            label = 2 * int(profit_t < loss_t) - 1\n",
    "        Y[i] = label\n",
    "    \n",
    "    return np.array(X), np.array(Y)\n",
    "\n",
    "def preprocessData(X, Y, win=7): \n",
    "    N = len(Y)\n",
    "    XX, YY = [], []\n",
    "    for i in range(win -1, N):\n",
    "        XX.append(X[i+1-win:i+1])\n",
    "        YY.append(Y[i])\n",
    "    return np.array(XX), np.array(YY)\n",
    "        \n",
    "        \n",
    "    \n",
    "\n",
    "\n",
    "def trainModel(Xtrain, Ytrain, Xtest, Ytest):\n",
    "    # fit final model\n",
    "    #model = LR()\n",
    "    model = RF()\n",
    "     \n",
    "    info = 'Training Sample: {}   '.format(Xtrain.shape) + \\\n",
    "    'Testing Sample: {}'.format(Xtest.shape)\n",
    "    print(info)\n",
    "    \n",
    "    model.fit(Xtrain, Ytrain)\n",
    "    # new instances where we do not know the answer\n",
    "    # make a prediction and get predicted probabilities\n",
    "    Ypredict = model.predict_proba(Xtest) \n",
    "    YpredictLabels = model.predict(Xtest)\n",
    "    avg_mode = 'weighted'\n",
    "    acc = model.score(Xtest, Ytest) * 100\n",
    "    precision = precision_score(Ytest, YpredictLabels,average=avg_mode)  \n",
    "    recall = recall_score(Ytest, YpredictLabels,average=avg_mode) \n",
    "    \n",
    "    acc_res = 'Accuracy={:.2f}%.'.format(acc) \n",
    "    pre_res = 'Precision={:.2f}'.format(precision) \n",
    "    recall_res = 'Recall={:.2f}'.format(recall)\n",
    "    info = 'model classes:{}'.format(model.classes_)\n",
    "    \n",
    "    print(info)\n",
    "    print(acc_res) \n",
    "    print(pre_res)\n",
    "    print(recall_res)\n",
    "     \n",
    "    return model\n",
    "        \n",
    "       \n",
    "perf = pd.read_pickle(\"../data/data.pickle\")\n",
    "X, Y = perf['x'], perf['y']\n",
    "win = 7\n",
    "X, Y = preprocessData(X, Y, win)\n",
    "Xtrain, Xtest, Ytrain, Ytest = \\\n",
    "    train_test_split(X, Y, test_size=0.33, shuffle=True)\n",
    "\n",
    "model = trainModel(Xtrain, Ytrain, Xtest, Ytest)\n",
    "output_file = '../model/LR.sav'\n",
    "    \n",
    "with open(output_file, 'wb') as f:\n",
    "        pickle.dump(model, f)\n",
    "\n",
    "\n"
   ]
  },
  {
   "cell_type": "code",
   "execution_count": null,
   "metadata": {},
   "outputs": [],
   "source": []
  },
  {
   "cell_type": "code",
   "execution_count": null,
   "metadata": {},
   "outputs": [],
   "source": []
  }
 ],
 "metadata": {
  "kernelspec": {
   "display_name": "Python 2",
   "language": "python",
   "name": "python2"
  },
  "language_info": {
   "codemirror_mode": {
    "name": "ipython",
    "version": 2
   },
   "file_extension": ".py",
   "mimetype": "text/x-python",
   "name": "python",
   "nbconvert_exporter": "python",
   "pygments_lexer": "ipython2",
   "version": "2.7.10"
  }
 },
 "nbformat": 4,
 "nbformat_minor": 2
}
